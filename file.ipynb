{
 "cells": [
  {
   "cell_type": "code",
   "execution_count": null,
   "metadata": {},
   "outputs": [],
   "source": [
    "int_variable = 7  # int\n",
    "assert isinstance(int_variable, int)"
   ]
  },
  {
   "cell_type": "code",
   "execution_count": 2,
   "metadata": {},
   "outputs": [],
   "source": [
    "list_variable = [2, 4, 6, 8, 10, 12, '14', '16'] # list\n",
    "assert isinstance(list_variable, list)"
   ]
  },
  {
   "cell_type": "code",
   "execution_count": 3,
   "metadata": {},
   "outputs": [
    {
     "name": "stdout",
     "output_type": "stream",
     "text": [
      "[2, 4, 6, 8, 10, 12, '14', '16', 7]\n"
     ]
    }
   ],
   "source": [
    "list_variable.append(int_variable)\n",
    "print(list_variable)"
   ]
  },
  {
   "cell_type": "code",
   "execution_count": 4,
   "metadata": {},
   "outputs": [
    {
     "name": "stdout",
     "output_type": "stream",
     "text": [
      "[2, 4, 6, 8, 10, 12, '14', 7]\n"
     ]
    }
   ],
   "source": [
    "list_variable.remove('16')\n",
    "print(list_variable)"
   ]
  },
  {
   "cell_type": "code",
   "execution_count": 5,
   "metadata": {},
   "outputs": [
    {
     "name": "stdout",
     "output_type": "stream",
     "text": [
      "[2, 4, 6, 8, 10, 12, '14', 7, 'last element']\n"
     ]
    }
   ],
   "source": [
    "string_variable = 'last element' \n",
    "list_variable.append(string_variable)\n",
    "print(list_variable)"
   ]
  },
  {
   "cell_type": "markdown",
   "metadata": {},
   "source": [
    "Добавление словаря "
   ]
  },
  {
   "cell_type": "code",
   "execution_count": 8,
   "metadata": {},
   "outputs": [],
   "source": [
    "dict_variable = {'name': 'Margarita', 'surname': 'Makarova', 'University': 'MISIS', 'hobby': ['swimming', 'painting', 'watching films']}  # dict\n",
    "assert isinstance(dict_variable, dict)"
   ]
  },
  {
   "cell_type": "markdown",
   "metadata": {},
   "source": [
<<<<<<< HEAD
    "Удаление watching"
=======
    "Удаление watching films"
>>>>>>> fourth_branch
   ]
  },
  {
   "cell_type": "code",
   "execution_count": 7,
   "metadata": {},
   "outputs": [
    {
     "name": "stdout",
     "output_type": "stream",
     "text": [
      "{'name': 'Margarita', 'surname': 'Makarova', 'University': 'MISIS', 'hobby': ['swimming', 'painting']}\n"
     ]
    }
   ],
   "source": [
    "dict_variable['hobby'].remove('watching films')\n",
    "print(dict_variable)"
   ]
  }
 ],
 "metadata": {
  "kernelspec": {
   "display_name": "Python 3",
   "language": "python",
   "name": "python3"
  },
  "language_info": {
   "codemirror_mode": {
    "name": "ipython",
    "version": 3
   },
   "file_extension": ".py",
   "mimetype": "text/x-python",
   "name": "python",
   "nbconvert_exporter": "python",
   "pygments_lexer": "ipython3",
   "version": "3.10.7"
  }
 },
 "nbformat": 4,
 "nbformat_minor": 2
}
